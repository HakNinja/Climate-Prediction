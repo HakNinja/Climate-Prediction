{
 "cells": [
  {
   "cell_type": "code",
   "execution_count": null,
   "id": "dff7eec5-2132-4b59-a96e-11b91959c127",
   "metadata": {},
   "outputs": [],
   "source": [
    "import pandas as pd\n",
    "import numpy as np\n",
    "from sklearn.model_selection import train_test_split\n",
    "from sklearn.metrics import mean_squared_error\n",
    "from sklearn.linear_model import LinearRegression, Lasso, Ridge\n",
    "from sklearn.svm import SVR\n",
    "from sklearn.ensemble import RandomForestRegressor\n",
    "from tensorflow.keras.models import Sequential\n",
    "from tensorflow.keras.layers import LSTM, GRU, Dense, Conv1D, MaxPooling1D, Flatten\n",
    "from tensorflow.keras.optimizers import Adam\n",
    "import matplotlib.pyplot as plt"
   ]
  },
  {
   "cell_type": "code",
   "execution_count": null,
   "id": "f10c30cd-2e01-4a3d-bd63-5d703e2bdbef",
   "metadata": {},
   "outputs": [],
   "source": [
    "# Load data\n",
    "data = pd.read_csv(\"train.csv\")"
   ]
  },
  {
   "cell_type": "code",
   "execution_count": null,
   "id": "08e53e79-2d36-4124-93a3-eeecead8a7be",
   "metadata": {},
   "outputs": [],
   "source": [
    "# Prepare data\n",
    "X_train = data.drop(columns=['date_time', 'maxtempC'])\n",
    "y_train = data['maxtempC']"
   ]
  },
  {
   "cell_type": "code",
   "execution_count": null,
   "id": "48605d6b-81c0-4a8a-b1c4-8f91c9200843",
   "metadata": {},
   "outputs": [],
   "source": [
    "# Split data\n",
    "# X_train, X_test, y_train, y_test = train_test_split(X, y, test_size=0.2, random_state=42)\n",
    "# Load data\n",
    "data = pd.read_csv(\"test.csv\")"
   ]
  },
  {
   "cell_type": "code",
   "execution_count": null,
   "id": "5e834cf7-d3ef-4c5c-812d-89e3719dbeb7",
   "metadata": {},
   "outputs": [],
   "source": [
    "# Prepare data\n",
    "X_test = data.drop(columns=['date_time', 'maxtempC'])\n",
    "y_test = data['maxtempC']"
   ]
  },
  {
   "cell_type": "code",
   "execution_count": null,
   "id": "4c66510a-2bee-4745-9eda-77a5a1a53319",
   "metadata": {},
   "outputs": [],
   "source": [
    "# Linear Regression\n",
    "lr = LinearRegression()\n",
    "lr.fit(X_train, y_train)\n",
    "lr_pred = lr.predict(X_test)\n",
    "lr_rmse = np.sqrt(mean_squared_error(y_test, lr_pred))"
   ]
  },
  {
   "cell_type": "code",
   "execution_count": null,
   "id": "cb106509-8ea9-4a2a-a1e9-077a5cc1aae4",
   "metadata": {
    "scrolled": true
   },
   "outputs": [],
   "source": [
    "# Linear Regression Plot\n",
    "plt.figure(figsize=(10, 6))\n",
    "plt.plot(y_test, label='Actual')\n",
    "plt.plot(lr_pred, label='Linear Regression Prediction')\n",
    "plt.title('Linear Regression: Actual vs Prediction')\n",
    "plt.xlabel('Samples')\n",
    "plt.ylabel('Temperature (C)')\n",
    "plt.legend()\n",
    "plt.show()"
   ]
  },
  {
   "cell_type": "code",
   "execution_count": null,
   "id": "e0b90114-8ceb-4f10-b85c-3297670cce87",
   "metadata": {},
   "outputs": [],
   "source": [
    "# Lasso Regression\n",
    "lasso = Lasso()\n",
    "lasso.fit(X_train, y_train)\n",
    "lasso_pred = lasso.predict(X_test)\n",
    "lasso_rmse = np.sqrt(mean_squared_error(y_test, lasso_pred))"
   ]
  },
  {
   "cell_type": "code",
   "execution_count": null,
   "id": "714f0c10-de56-47ea-b8ba-ce9dbd3b50c9",
   "metadata": {},
   "outputs": [],
   "source": [
    "# Lasso Regression Plot\n",
    "plt.figure(figsize=(10, 6))\n",
    "plt.plot(y_test, label='Actual')\n",
    "plt.plot(lasso_pred, label='Lasso Regression Prediction')\n",
    "plt.title('Lasso Regression: Actual vs Prediction')\n",
    "plt.xlabel('Samples')\n",
    "plt.ylabel('Temperature (C)')\n",
    "plt.legend()\n",
    "plt.show()"
   ]
  },
  {
   "cell_type": "code",
   "execution_count": null,
   "id": "ccbb66a6-32c4-47ff-9855-682ea474fb00",
   "metadata": {},
   "outputs": [],
   "source": [
    "# Ridge Regression\n",
    "ridge = Ridge()\n",
    "ridge.fit(X_train, y_train)\n",
    "ridge_pred = ridge.predict(X_test)\n",
    "ridge_rmse = np.sqrt(mean_squared_error(y_test, ridge_pred))"
   ]
  },
  {
   "cell_type": "code",
   "execution_count": null,
   "id": "fed699eb-126c-4784-9e65-3679d21e12d6",
   "metadata": {},
   "outputs": [],
   "source": [
    "# Ridge Regression Plot\n",
    "plt.figure(figsize=(10, 6))\n",
    "plt.plot(y_test, label='Actual')\n",
    "plt.plot(ridge_pred, label='Ridge Regression Prediction')\n",
    "plt.title('Ridge Regression: Actual vs Prediction')\n",
    "plt.xlabel('Samples')\n",
    "plt.ylabel('Temperature (C)')\n",
    "plt.legend()\n",
    "plt.show()"
   ]
  },
  {
   "cell_type": "code",
   "execution_count": null,
   "id": "a0b4a972-d4c4-4c8b-bdd4-abb95828b272",
   "metadata": {},
   "outputs": [],
   "source": [
    "# Support Vector Machine\n",
    "svm = SVR()\n",
    "svm.fit(X_train, y_train)\n",
    "svm_pred = svm.predict(X_test)\n",
    "svm_rmse = np.sqrt(mean_squared_error(y_test, svm_pred))"
   ]
  },
  {
   "cell_type": "code",
   "execution_count": null,
   "id": "14e42481-42d8-439f-a306-3bc259f9c753",
   "metadata": {},
   "outputs": [],
   "source": [
    "# SVM Plot\n",
    "plt.figure(figsize=(10, 6))\n",
    "plt.plot(y_test, label='Actual')\n",
    "plt.plot(svm_pred, label='SVM Prediction')\n",
    "plt.title('SVM: Actual vs Prediction')\n",
    "plt.xlabel('Samples')\n",
    "plt.ylabel('Temperature (C)')\n",
    "plt.legend()\n",
    "plt.show()"
   ]
  },
  {
   "cell_type": "code",
   "execution_count": null,
   "id": "e701bd7c-6e72-412e-b423-fb06628d5e7e",
   "metadata": {},
   "outputs": [],
   "source": [
    "# Random Forest\n",
    "rf = RandomForestRegressor()\n",
    "rf.fit(X_train, y_train)\n",
    "rf_pred = rf.predict(X_test)\n",
    "rf_rmse = np.sqrt(mean_squared_error(y_test, rf_pred))"
   ]
  },
  {
   "cell_type": "code",
   "execution_count": null,
   "id": "62f6ad05-47e4-4604-b1f1-3f817d518d6d",
   "metadata": {},
   "outputs": [],
   "source": [
    "# Random Forest Plot\n",
    "plt.figure(figsize=(10, 6))\n",
    "plt.plot(y_test, label='Actual')\n",
    "plt.plot(rf_pred, label='Random Forest Prediction')\n",
    "plt.title('Random Forest: Actual vs Prediction')\n",
    "plt.xlabel('Samples')\n",
    "plt.ylabel('Temperature (C)')\n",
    "plt.legend()\n",
    "plt.show()"
   ]
  },
  {
   "cell_type": "code",
   "execution_count": null,
   "id": "dff777bb-e835-4eac-a2e4-97c1dec0b347",
   "metadata": {},
   "outputs": [],
   "source": [
    "# LSTM Model\n",
    "X_train_lstm = X_train.values.reshape((X_train.shape[0], 1, X_train.shape[1]))\n",
    "X_test_lstm = X_test.values.reshape((X_test.shape[0], 1, X_test.shape[1]))\n",
    "\n",
    "lstm_model = Sequential()\n",
    "lstm_model.add(LSTM(50, activation='relu', input_shape=(1, X_train.shape[1])))\n",
    "lstm_model.add(Dense(1))\n",
    "lstm_model.compile(optimizer='adam', loss='mse')\n",
    "\n",
    "lstm_model.fit(X_train_lstm, y_train, epochs=150, batch_size=32, verbose=0)\n",
    "lstm_pred = lstm_model.predict(X_test_lstm)\n",
    "lstm_rmse = np.sqrt(mean_squared_error(y_test, lstm_pred))"
   ]
  },
  {
   "cell_type": "code",
   "execution_count": null,
   "id": "8dbf8559-3c16-4a79-9429-56e1162aa981",
   "metadata": {},
   "outputs": [],
   "source": [
    "# LSTM Plot\n",
    "plt.figure(figsize=(10, 6))\n",
    "plt.plot(y_test, label='Actual')\n",
    "plt.plot(lstm_pred, label='LSTM Prediction')\n",
    "plt.title('LSTM: Actual vs Prediction')\n",
    "plt.xlabel('Samples')\n",
    "plt.ylabel('Temperature (C)')\n",
    "plt.legend()\n",
    "plt.show()"
   ]
  },
  {
   "cell_type": "code",
   "execution_count": null,
   "id": "d677ed98-c0e1-45a7-9953-f4d2c810c7c1",
   "metadata": {},
   "outputs": [],
   "source": [
    "# GRU Model\n",
    "gru_model = Sequential()\n",
    "gru_model.add(GRU(50, activation='relu', input_shape=(1, X_train.shape[1])))\n",
    "gru_model.add(Dense(1))\n",
    "gru_model.compile(optimizer='adam', loss='mse')\n",
    "\n",
    "gru_model.fit(X_train_lstm, y_train, epochs=150, batch_size=32, verbose=0)\n",
    "gru_pred = gru_model.predict(X_test_lstm)\n",
    "gru_rmse = np.sqrt(mean_squared_error(y_test, gru_pred))"
   ]
  },
  {
   "cell_type": "code",
   "execution_count": null,
   "id": "0411a2c7-4c37-484b-b8a1-a53904d2cd23",
   "metadata": {},
   "outputs": [],
   "source": [
    "# GRU Plot\n",
    "plt.figure(figsize=(10, 6))\n",
    "plt.plot(y_test, label='Actual')\n",
    "plt.plot(gru_pred, label='GRU Prediction')\n",
    "plt.title('GRU: Actual vs Prediction')\n",
    "plt.xlabel('Samples')\n",
    "plt.ylabel('Temperature (C)')\n",
    "plt.legend()\n",
    "plt.show()"
   ]
  },
  {
   "cell_type": "code",
   "execution_count": null,
   "id": "3d8225ab-2ce9-43b1-a9aa-aafbc066340a",
   "metadata": {},
   "outputs": [],
   "source": [
    "# CNN Model\n",
    "X_train_cnn = X_train.values.reshape((X_train.shape[0], X_train.shape[1], 1))\n",
    "X_test_cnn = X_test.values.reshape((X_test.shape[0], X_test.shape[1], 1))\n",
    "\n",
    "cnn_model = Sequential()\n",
    "cnn_model.add(Conv1D(filters=64, kernel_size=2, activation='relu', input_shape=(X_train_cnn.shape[1], X_train_cnn.shape[2])))\n",
    "cnn_model.add(MaxPooling1D(pool_size=2))\n",
    "cnn_model.add(Flatten())\n",
    "cnn_model.add(Dense(50, activation='relu'))\n",
    "cnn_model.add(Dense(1))\n",
    "cnn_model.compile(optimizer='adam', loss='mse')\n",
    "\n",
    "cnn_model.fit(X_train_cnn, y_train, epochs=150, batch_size=32, verbose=0)\n",
    "cnn_pred = cnn_model.predict(X_test_cnn)\n",
    "cnn_rmse = np.sqrt(mean_squared_error(y_test, cnn_pred))"
   ]
  },
  {
   "cell_type": "code",
   "execution_count": null,
   "id": "62169509-1fc1-49de-a264-ccfefb1f3ef4",
   "metadata": {},
   "outputs": [],
   "source": [
    "# CNN Plot\n",
    "plt.figure(figsize=(10, 6))\n",
    "plt.plot(y_test, label='Actual')\n",
    "plt.plot(cnn_pred, label='CNN Prediction')\n",
    "plt.title('CNN: Actual vs Prediction')\n",
    "plt.xlabel('Samples')\n",
    "plt.ylabel('Temperature (C)')\n",
    "plt.legend()\n",
    "plt.show()"
   ]
  },
  {
   "cell_type": "code",
   "execution_count": null,
   "id": "c4e677dd-fa55-4266-b1b4-c4f7a73f0949",
   "metadata": {},
   "outputs": [],
   "source": [
    "# Comparison\n",
    "models = ['Linear Regression', 'Lasso', 'Ridge', 'SVM', 'Random Forest', 'LSTM', 'GRU', 'CNN']\n",
    "rmses = [lr_rmse, lasso_rmse, ridge_rmse, svm_rmse, rf_rmse, lstm_rmse, gru_rmse, cnn_rmse]"
   ]
  },
  {
   "cell_type": "code",
   "execution_count": null,
   "id": "3ee78821-6cf0-4f81-91bb-cc94275f242a",
   "metadata": {},
   "outputs": [],
   "source": [
    "data = {\n",
    "    'Model': models,\n",
    "    'RMSE': rmses\n",
    "}\n",
    "\n",
    "# Create a DataFrame from the dictionary\n",
    "df = pd.DataFrame(data)\n",
    "\n",
    "# Display the DataFrame\n",
    "print(df)"
   ]
  },
  {
   "cell_type": "code",
   "execution_count": null,
   "id": "4d2a7c6f-9e8c-441e-a8ac-ac3a21fbe2bf",
   "metadata": {},
   "outputs": [],
   "source": [
    "# RMSE Comparison\n",
    "plt.figure(figsize=(10, 6))\n",
    "plt.bar(models, rmses, color='skyblue')\n",
    "plt.xlabel('Models')\n",
    "plt.ylabel('RMSE')\n",
    "plt.title('Model Comparison')\n",
    "plt.xticks(rotation=45)\n",
    "plt.show()"
   ]
  }
 ],
 "metadata": {
  "kernelspec": {
   "display_name": "Python 3 (ipykernel)",
   "language": "python",
   "name": "python3"
  },
  "language_info": {
   "codemirror_mode": {
    "name": "ipython",
    "version": 3
   },
   "file_extension": ".py",
   "mimetype": "text/x-python",
   "name": "python",
   "nbconvert_exporter": "python",
   "pygments_lexer": "ipython3",
   "version": "3.11.7"
  }
 },
 "nbformat": 4,
 "nbformat_minor": 5
}
